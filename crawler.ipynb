{
 "cells": [
  {
   "cell_type": "code",
   "execution_count": 1,
   "metadata": {},
   "outputs": [],
   "source": [
    "from urllib.parse import urljoin\n",
    "from urllib.parse import urlparse\n",
    "from urllib.request import urlopen\n",
    "from bs4 import BeautifulSoup\n",
    "import validators\n",
    "import requests\n",
    "import warnings\n",
    "import threading\n",
    "\n",
    "warnings.filterwarnings('ignore')"
   ]
  },
  {
   "cell_type": "code",
   "execution_count": 2,
   "metadata": {},
   "outputs": [],
   "source": [
    "def get_full_link(url: str, base_url: str) -> str:\n",
    "    domain = urlparse(base_url).netloc\n",
    "    if url:\n",
    "        if not url.startswith(\"http\"):  \n",
    "            url = urljoin(base_url, url)\n",
    "            if validators.url(url):\n",
    "                return url\n",
    "        elif domain not in url:              \n",
    "            return\n",
    "        else:\n",
    "            if validators.url(url):\n",
    "                return url"
   ]
  },
  {
   "cell_type": "code",
   "execution_count": 3,
   "metadata": {},
   "outputs": [],
   "source": [
    "lock = threading.Lock()\n",
    "\n",
    "def get_links(url: str, base_url: str) -> list[str]:\n",
    "    if url:\n",
    "        try:\n",
    "            response = requests.get(url, verify=False)\n",
    "            soup = BeautifulSoup(response.content, \"html.parser\", from_encoding=\"iso-8859-1\")\n",
    "        except Exception as error:\n",
    "            print(error)\n",
    "            return\n",
    "        links = []\n",
    "        for element in soup.find_all(name=['a', 'link']):\n",
    "            link = element.get(\"href\")\n",
    "            link = get_full_link(link, base_url)\n",
    "            if link:\n",
    "                links.append(link)\n",
    "        return links"
   ]
  },
  {
   "cell_type": "code",
   "execution_count": 4,
   "metadata": {},
   "outputs": [],
   "source": [
    "def worker(url: str, chank_size: int) -> None:\n",
    "    global checked\n",
    "    global not_checked\n",
    "    global in_work\n",
    "\n",
    "    while not_checked or in_work>0:\n",
    "        if not not_checked:\n",
    "            continue\n",
    "\n",
    "        in_work += 1\n",
    "\n",
    "        with lock:\n",
    "            chank = []\n",
    "            for _ in range(chank_size):\n",
    "                if not_checked == []:\n",
    "                    break\n",
    "                chank.append(not_checked.pop(0))\n",
    "\n",
    "        for link in chank:\n",
    "            if link:\n",
    "                link = get_full_link(link, url)\n",
    "                new_links = get_links(link, url)\n",
    "                if new_links:\n",
    "                    for i in new_links:\n",
    "                        if not i in not_checked and not i in checked:\n",
    "                            not_checked.append(i)\n",
    "                if link not in checked:\n",
    "                    checked.append(link)   \n",
    "\n",
    "        in_work -= 1   \n"
   ]
  },
  {
   "cell_type": "code",
   "execution_count": 9,
   "metadata": {},
   "outputs": [],
   "source": [
    "def crawler(site: str, chank_size: int) -> None:\n",
    "    threads = []\n",
    "\n",
    "    for n in range(4):\n",
    "        t = threading.Thread(target=worker, args=(site, chank_size))\n",
    "        threads.append(t)\n",
    "        t.start()\n",
    "\n",
    "    for t in threads:\n",
    "        t.join()\n",
    "\n",
    "    with open(f'{urlparse(site).netloc}.txt', 'w', encoding=\"utf-8\") as fp:\n",
    "        for line in checked:\n",
    "            if line:\n",
    "                fp.write( line + \"\\n\")"
   ]
  },
  {
   "cell_type": "code",
   "execution_count": 10,
   "metadata": {},
   "outputs": [
    {
     "name": "stdout",
     "output_type": "stream",
     "text": [
      "Exceeded 30 redirects.\n",
      "Exceeded 30 redirects.\n",
      "HTTPSConnectionPool(host='invalid.crawler-test.com', port=443): Max retries exceeded with url: / (Caused by NewConnectionError('<urllib3.connection.HTTPSConnection object at 0x000001F1B5568DF0>: Failed to establish a new connection: [Errno 11001] getaddrinfo failed'))\n",
      "Exceeded 30 redirects.\n",
      "Exceeded 30 redirects.\n",
      "HTTPSConnectionPool(host='crawler-test.com', port=80): Max retries exceeded with url: /canonical_tags/canonical_port_80 (Caused by SSLError(SSLError(1, '[SSL: WRONG_VERSION_NUMBER] wrong version number (_ssl.c:997)')))\n",
      "HTTPSConnectionPool(host='crawler-test.com', port=8080): Max retries exceeded with url: /canonical_tags/canonical_port_8080 (Caused by ConnectTimeoutError(<urllib3.connection.HTTPSConnection object at 0x000001F1BA8EE0B0>, 'Connection to crawler-test.com timed out. (connect timeout=None)'))\n"
     ]
    }
   ],
   "source": [
    "site = \"http://crawler-test.com/\"\n",
    "checked = [site]\n",
    "not_checked = get_links(site, site)\n",
    "in_work = 0\n",
    "chank_size = 20\n",
    "crawler(site, chank_size)\n"
   ]
  }
 ],
 "metadata": {
  "kernelspec": {
   "display_name": "Python 3",
   "language": "python",
   "name": "python3"
  },
  "language_info": {
   "codemirror_mode": {
    "name": "ipython",
    "version": 3
   },
   "file_extension": ".py",
   "mimetype": "text/x-python",
   "name": "python",
   "nbconvert_exporter": "python",
   "pygments_lexer": "ipython3",
   "version": "3.10.0"
  },
  "orig_nbformat": 4
 },
 "nbformat": 4,
 "nbformat_minor": 2
}
